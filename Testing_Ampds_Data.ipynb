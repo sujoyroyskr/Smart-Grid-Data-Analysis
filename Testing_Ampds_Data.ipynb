{
 "cells": [
  {
   "cell_type": "code",
   "execution_count": null,
   "metadata": {},
   "outputs": [],
   "source": [
    "import pandas as pd"
   ]
  },
  {
   "cell_type": "code",
   "execution_count": null,
   "metadata": {},
   "outputs": [],
   "source": [
    "hdf = pd.HDFStore('AMPds2.h5', mode='r')"
   ]
  },
  {
   "cell_type": "code",
   "execution_count": 3,
   "metadata": {},
   "outputs": [
    {
     "data": {
      "text/plain": [
       "['/building1/elec/meter1',\n",
       " '/building1/elec/meter10',\n",
       " '/building1/elec/meter11',\n",
       " '/building1/elec/meter12',\n",
       " '/building1/elec/meter13',\n",
       " '/building1/elec/meter14',\n",
       " '/building1/elec/meter15',\n",
       " '/building1/elec/meter16',\n",
       " '/building1/elec/meter17',\n",
       " '/building1/elec/meter18',\n",
       " '/building1/elec/meter19',\n",
       " '/building1/elec/meter2',\n",
       " '/building1/elec/meter20',\n",
       " '/building1/elec/meter21',\n",
       " '/building1/elec/meter3',\n",
       " '/building1/elec/meter4',\n",
       " '/building1/elec/meter5',\n",
       " '/building1/elec/meter6',\n",
       " '/building1/elec/meter7',\n",
       " '/building1/elec/meter8',\n",
       " '/building1/elec/meter9',\n",
       " '/building1/elec/cache/meter9/dropout_rate',\n",
       " '/building1/elec/cache/meter9/good_sections',\n",
       " '/building1/elec/cache/meter9/total_energy',\n",
       " '/building1/elec/cache/meter8/dropout_rate',\n",
       " '/building1/elec/cache/meter8/good_sections',\n",
       " '/building1/elec/cache/meter8/total_energy',\n",
       " '/building1/elec/cache/meter7/dropout_rate',\n",
       " '/building1/elec/cache/meter7/good_sections',\n",
       " '/building1/elec/cache/meter7/total_energy',\n",
       " '/building1/elec/cache/meter6/dropout_rate',\n",
       " '/building1/elec/cache/meter6/good_sections',\n",
       " '/building1/elec/cache/meter6/total_energy',\n",
       " '/building1/elec/cache/meter5/dropout_rate',\n",
       " '/building1/elec/cache/meter5/good_sections',\n",
       " '/building1/elec/cache/meter5/total_energy',\n",
       " '/building1/elec/cache/meter4/dropout_rate',\n",
       " '/building1/elec/cache/meter4/good_sections',\n",
       " '/building1/elec/cache/meter4/total_energy',\n",
       " '/building1/elec/cache/meter3/dropout_rate',\n",
       " '/building1/elec/cache/meter3/good_sections',\n",
       " '/building1/elec/cache/meter3/total_energy',\n",
       " '/building1/elec/cache/meter21/dropout_rate',\n",
       " '/building1/elec/cache/meter21/good_sections',\n",
       " '/building1/elec/cache/meter21/total_energy',\n",
       " '/building1/elec/cache/meter20/dropout_rate',\n",
       " '/building1/elec/cache/meter20/good_sections',\n",
       " '/building1/elec/cache/meter20/total_energy',\n",
       " '/building1/elec/cache/meter2/dropout_rate',\n",
       " '/building1/elec/cache/meter2/good_sections',\n",
       " '/building1/elec/cache/meter2/total_energy',\n",
       " '/building1/elec/cache/meter19/dropout_rate',\n",
       " '/building1/elec/cache/meter19/good_sections',\n",
       " '/building1/elec/cache/meter19/total_energy',\n",
       " '/building1/elec/cache/meter18/dropout_rate',\n",
       " '/building1/elec/cache/meter18/good_sections',\n",
       " '/building1/elec/cache/meter18/total_energy',\n",
       " '/building1/elec/cache/meter17/dropout_rate',\n",
       " '/building1/elec/cache/meter17/good_sections',\n",
       " '/building1/elec/cache/meter17/total_energy',\n",
       " '/building1/elec/cache/meter16/dropout_rate',\n",
       " '/building1/elec/cache/meter16/good_sections',\n",
       " '/building1/elec/cache/meter16/total_energy',\n",
       " '/building1/elec/cache/meter15/dropout_rate',\n",
       " '/building1/elec/cache/meter15/good_sections',\n",
       " '/building1/elec/cache/meter15/total_energy',\n",
       " '/building1/elec/cache/meter14/dropout_rate',\n",
       " '/building1/elec/cache/meter14/good_sections',\n",
       " '/building1/elec/cache/meter14/total_energy',\n",
       " '/building1/elec/cache/meter13/dropout_rate',\n",
       " '/building1/elec/cache/meter13/good_sections',\n",
       " '/building1/elec/cache/meter13/total_energy',\n",
       " '/building1/elec/cache/meter12/dropout_rate',\n",
       " '/building1/elec/cache/meter12/good_sections',\n",
       " '/building1/elec/cache/meter12/total_energy',\n",
       " '/building1/elec/cache/meter11/dropout_rate',\n",
       " '/building1/elec/cache/meter11/good_sections',\n",
       " '/building1/elec/cache/meter11/total_energy',\n",
       " '/building1/elec/cache/meter10/dropout_rate',\n",
       " '/building1/elec/cache/meter10/good_sections',\n",
       " '/building1/elec/cache/meter10/total_energy',\n",
       " '/building1/elec/cache/meter1/dropout_rate',\n",
       " '/building1/elec/cache/meter1/good_sections',\n",
       " '/building1/elec/cache/meter1/total_energy']"
      ]
     },
     "execution_count": 3,
     "metadata": {},
     "output_type": "execute_result"
    }
   ],
   "source": [
    "hdf.keys()"
   ]
  },
  {
   "cell_type": "code",
   "execution_count": 4,
   "metadata": {},
   "outputs": [],
   "source": [
    "df1 = hdf.get('/building1/elec/meter1')"
   ]
  },
  {
   "cell_type": "code",
   "execution_count": 5,
   "metadata": {},
   "outputs": [
    {
     "data": {
      "text/plain": [
       "pandas.core.frame.DataFrame"
      ]
     },
     "execution_count": 5,
     "metadata": {},
     "output_type": "execute_result"
    }
   ],
   "source": [
    "type(df1)"
   ]
  },
  {
   "cell_type": "code",
   "execution_count": 6,
   "metadata": {},
   "outputs": [
    {
     "data": {
      "text/html": [
       "<div>\n",
       "<style scoped>\n",
       "    .dataframe tbody tr th:only-of-type {\n",
       "        vertical-align: middle;\n",
       "    }\n",
       "\n",
       "    .dataframe tbody tr th {\n",
       "        vertical-align: top;\n",
       "    }\n",
       "\n",
       "    .dataframe thead tr th {\n",
       "        text-align: left;\n",
       "    }\n",
       "\n",
       "    .dataframe thead tr:last-of-type th {\n",
       "        text-align: right;\n",
       "    }\n",
       "</style>\n",
       "<table border=\"1\" class=\"dataframe\">\n",
       "  <thead>\n",
       "    <tr>\n",
       "      <th>physical_quantity</th>\n",
       "      <th>voltage</th>\n",
       "      <th>current</th>\n",
       "      <th>frequency</th>\n",
       "      <th>pf</th>\n",
       "      <th>power factor</th>\n",
       "      <th>power</th>\n",
       "      <th>energy</th>\n",
       "      <th>power</th>\n",
       "      <th>energy</th>\n",
       "      <th>power</th>\n",
       "      <th>energy</th>\n",
       "    </tr>\n",
       "    <tr>\n",
       "      <th>type</th>\n",
       "      <th></th>\n",
       "      <th></th>\n",
       "      <th></th>\n",
       "      <th>d</th>\n",
       "      <th>apparent</th>\n",
       "      <th>active</th>\n",
       "      <th>active</th>\n",
       "      <th>reactive</th>\n",
       "      <th>reactive</th>\n",
       "      <th>apparent</th>\n",
       "      <th>apparent</th>\n",
       "    </tr>\n",
       "    <tr>\n",
       "      <th>TIMESTAMP</th>\n",
       "      <th></th>\n",
       "      <th></th>\n",
       "      <th></th>\n",
       "      <th></th>\n",
       "      <th></th>\n",
       "      <th></th>\n",
       "      <th></th>\n",
       "      <th></th>\n",
       "      <th></th>\n",
       "      <th></th>\n",
       "      <th></th>\n",
       "    </tr>\n",
       "  </thead>\n",
       "  <tbody>\n",
       "    <tr>\n",
       "      <th>2012-04-01 00:00:00-07:00</th>\n",
       "      <td>236.100006</td>\n",
       "      <td>8.6</td>\n",
       "      <td>60.060001</td>\n",
       "      <td>1.0</td>\n",
       "      <td>0.93</td>\n",
       "      <td>918.0</td>\n",
       "      <td>1007560.0</td>\n",
       "      <td>141.0</td>\n",
       "      <td>124951.0</td>\n",
       "      <td>1066.0</td>\n",
       "      <td>1064237.0</td>\n",
       "    </tr>\n",
       "    <tr>\n",
       "      <th>2012-04-01 00:01:00-07:00</th>\n",
       "      <td>236.399994</td>\n",
       "      <td>8.6</td>\n",
       "      <td>60.000000</td>\n",
       "      <td>1.0</td>\n",
       "      <td>0.93</td>\n",
       "      <td>913.0</td>\n",
       "      <td>1007577.0</td>\n",
       "      <td>141.0</td>\n",
       "      <td>124952.0</td>\n",
       "      <td>1056.0</td>\n",
       "      <td>1064256.0</td>\n",
       "    </tr>\n",
       "    <tr>\n",
       "      <th>2012-04-01 00:02:00-07:00</th>\n",
       "      <td>236.300003</td>\n",
       "      <td>8.2</td>\n",
       "      <td>60.000000</td>\n",
       "      <td>1.0</td>\n",
       "      <td>0.93</td>\n",
       "      <td>872.0</td>\n",
       "      <td>1007592.0</td>\n",
       "      <td>139.0</td>\n",
       "      <td>124953.0</td>\n",
       "      <td>1021.0</td>\n",
       "      <td>1064272.0</td>\n",
       "    </tr>\n",
       "    <tr>\n",
       "      <th>2012-04-01 00:03:00-07:00</th>\n",
       "      <td>236.399994</td>\n",
       "      <td>8.2</td>\n",
       "      <td>60.000000</td>\n",
       "      <td>1.0</td>\n",
       "      <td>0.93</td>\n",
       "      <td>872.0</td>\n",
       "      <td>1007606.0</td>\n",
       "      <td>141.0</td>\n",
       "      <td>124954.0</td>\n",
       "      <td>1018.0</td>\n",
       "      <td>1064287.0</td>\n",
       "    </tr>\n",
       "    <tr>\n",
       "      <th>2012-04-01 00:04:00-07:00</th>\n",
       "      <td>236.000000</td>\n",
       "      <td>8.2</td>\n",
       "      <td>60.000000</td>\n",
       "      <td>1.0</td>\n",
       "      <td>0.89</td>\n",
       "      <td>772.0</td>\n",
       "      <td>1007620.0</td>\n",
       "      <td>140.0</td>\n",
       "      <td>124955.0</td>\n",
       "      <td>1018.0</td>\n",
       "      <td>1064302.0</td>\n",
       "    </tr>\n",
       "  </tbody>\n",
       "</table>\n",
       "</div>"
      ],
      "text/plain": [
       "physical_quantity             voltage current  frequency   pf power factor  \\\n",
       "type                                                        d     apparent   \n",
       "TIMESTAMP                                                                    \n",
       "2012-04-01 00:00:00-07:00  236.100006     8.6  60.060001  1.0         0.93   \n",
       "2012-04-01 00:01:00-07:00  236.399994     8.6  60.000000  1.0         0.93   \n",
       "2012-04-01 00:02:00-07:00  236.300003     8.2  60.000000  1.0         0.93   \n",
       "2012-04-01 00:03:00-07:00  236.399994     8.2  60.000000  1.0         0.93   \n",
       "2012-04-01 00:04:00-07:00  236.000000     8.2  60.000000  1.0         0.89   \n",
       "\n",
       "physical_quantity          power     energy    power    energy    power  \\\n",
       "type                      active     active reactive  reactive apparent   \n",
       "TIMESTAMP                                                                 \n",
       "2012-04-01 00:00:00-07:00  918.0  1007560.0    141.0  124951.0   1066.0   \n",
       "2012-04-01 00:01:00-07:00  913.0  1007577.0    141.0  124952.0   1056.0   \n",
       "2012-04-01 00:02:00-07:00  872.0  1007592.0    139.0  124953.0   1021.0   \n",
       "2012-04-01 00:03:00-07:00  872.0  1007606.0    141.0  124954.0   1018.0   \n",
       "2012-04-01 00:04:00-07:00  772.0  1007620.0    140.0  124955.0   1018.0   \n",
       "\n",
       "physical_quantity             energy  \n",
       "type                        apparent  \n",
       "TIMESTAMP                             \n",
       "2012-04-01 00:00:00-07:00  1064237.0  \n",
       "2012-04-01 00:01:00-07:00  1064256.0  \n",
       "2012-04-01 00:02:00-07:00  1064272.0  \n",
       "2012-04-01 00:03:00-07:00  1064287.0  \n",
       "2012-04-01 00:04:00-07:00  1064302.0  "
      ]
     },
     "execution_count": 6,
     "metadata": {},
     "output_type": "execute_result"
    }
   ],
   "source": [
    "df1.head()"
   ]
  },
  {
   "cell_type": "code",
   "execution_count": 7,
   "metadata": {},
   "outputs": [],
   "source": [
    "df2 = hdf.get('/building1/elec/cache/meter9/dropout_rate')"
   ]
  },
  {
   "cell_type": "code",
   "execution_count": 8,
   "metadata": {},
   "outputs": [
    {
     "data": {
      "text/plain": [
       "pandas.core.frame.DataFrame"
      ]
     },
     "execution_count": 8,
     "metadata": {},
     "output_type": "execute_result"
    }
   ],
   "source": [
    "type(df2)"
   ]
  },
  {
   "cell_type": "code",
   "execution_count": 9,
   "metadata": {},
   "outputs": [
    {
     "data": {
      "text/html": [
       "<div>\n",
       "<style scoped>\n",
       "    .dataframe tbody tr th:only-of-type {\n",
       "        vertical-align: middle;\n",
       "    }\n",
       "\n",
       "    .dataframe tbody tr th {\n",
       "        vertical-align: top;\n",
       "    }\n",
       "\n",
       "    .dataframe thead th {\n",
       "        text-align: right;\n",
       "    }\n",
       "</style>\n",
       "<table border=\"1\" class=\"dataframe\">\n",
       "  <thead>\n",
       "    <tr style=\"text-align: right;\">\n",
       "      <th></th>\n",
       "      <th>end</th>\n",
       "      <th>dropout_rate</th>\n",
       "      <th>n_samples</th>\n",
       "    </tr>\n",
       "  </thead>\n",
       "  <tbody>\n",
       "    <tr>\n",
       "      <th>2012-04-01 00:00:00-07:00</th>\n",
       "      <td>2014-03-31 23:59:00-07:00</td>\n",
       "      <td>0.0</td>\n",
       "      <td>1051200.0</td>\n",
       "    </tr>\n",
       "  </tbody>\n",
       "</table>\n",
       "</div>"
      ],
      "text/plain": [
       "                                                end  dropout_rate  n_samples\n",
       "2012-04-01 00:00:00-07:00 2014-03-31 23:59:00-07:00           0.0  1051200.0"
      ]
     },
     "execution_count": 9,
     "metadata": {},
     "output_type": "execute_result"
    }
   ],
   "source": [
    "df2.head()"
   ]
  },
  {
   "cell_type": "code",
   "execution_count": null,
   "metadata": {},
   "outputs": [],
   "source": []
  }
 ],
 "metadata": {
  "kernelspec": {
   "display_name": "Python (nilmtk)",
   "language": "python",
   "name": "nilmtk-env"
  },
  "language_info": {
   "codemirror_mode": {
    "name": "ipython",
    "version": 3
   },
   "file_extension": ".py",
   "mimetype": "text/x-python",
   "name": "python",
   "nbconvert_exporter": "python",
   "pygments_lexer": "ipython3",
   "version": "3.8.2"
  }
 },
 "nbformat": 4,
 "nbformat_minor": 4
}
